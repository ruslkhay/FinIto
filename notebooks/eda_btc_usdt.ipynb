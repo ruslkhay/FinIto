{
 "cells": [
  {
   "cell_type": "markdown",
   "id": "0",
   "metadata": {},
   "source": [
    "# Exploratory Data Analysis of BTC/USDT "
   ]
  },
  {
   "cell_type": "code",
   "execution_count": null,
   "id": "1",
   "metadata": {},
   "outputs": [],
   "source": [
    "import pandas as pd\n",
    "from pathlib import Path\n",
    "import plotly.express as px\n",
    "from finito.utility import EmpiricalCDF\n",
    "\n",
    "data_path = Path(\"../data/BTCUSDT.csv\")"
   ]
  },
  {
   "cell_type": "code",
   "execution_count": null,
   "id": "2",
   "metadata": {},
   "outputs": [],
   "source": [
    "df = pd.read_csv(data_path)\n",
    "display(df)\n",
    "print(df.shape)\n",
    "x = df.loc[:, \"close\"]\n",
    "\n",
    "dx = x.diff()\n",
    "dx.dropna(inplace=True)\n",
    "dx = dx.sort_values()\n",
    "y = EmpiricalCDF(dx.values)"
   ]
  },
  {
   "cell_type": "code",
   "execution_count": null,
   "id": "3",
   "metadata": {},
   "outputs": [],
   "source": [
    "from scipy.stats import norm\n",
    "\n",
    "params = norm.fit(dx.values)\n",
    "px.line(\n",
    "    {\"emp cdf\": y, \"norm cdf\": norm(*params).cdf(dx.values)},\n",
    "    x=dx.values,\n",
    "    y=[\"emp cdf\", \"norm cdf\"],\n",
    ")"
   ]
  },
  {
   "cell_type": "code",
   "execution_count": null,
   "id": "4",
   "metadata": {},
   "outputs": [],
   "source": [
    "px.line(x=dx.values, y=norm(*params).pdf(dx.values))"
   ]
  }
 ],
 "metadata": {
  "kernelspec": {
   "display_name": "finito-3.12",
   "language": "python",
   "name": "python3"
  },
  "language_info": {
   "codemirror_mode": {
    "name": "ipython",
    "version": 3
   },
   "file_extension": ".py",
   "mimetype": "text/x-python",
   "name": "python",
   "nbconvert_exporter": "python",
   "pygments_lexer": "ipython3",
   "version": "3.12.7"
  }
 },
 "nbformat": 4,
 "nbformat_minor": 5
}
