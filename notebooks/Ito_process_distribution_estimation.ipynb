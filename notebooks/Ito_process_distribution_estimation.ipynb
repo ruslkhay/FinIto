{
 "cells": [
  {
   "cell_type": "markdown",
   "id": "0",
   "metadata": {},
   "source": [
    "# About\n",
    "Here are presented different approaches of reconstruction (estimation)\n",
    "of dynamical and diffusional parameters of Ito's processes in regard of\n",
    "randomness of their nature. Last one meaning that we don't imply any functional\n",
    "representation of them.\n",
    "\n",
    "### Brief overview\n",
    "\n",
    "$S(t) = S_t$ is called an Ito process if it satisfies next equality:\n",
    "$$ \n",
    "dS_t = a(t, S_t) \\cdot dt + b(t, S_t) \\cdot dW \n",
    "$$ (Ito_proc)\n",
    "\n",
    "\n",
    "We can create estimation of:\n",
    "1. Distribution of parameters\n",
    "2. Point-to-point\n",
    "\n",
    "\n",
    "### 1. Estimation of coefficients distribution\n",
    "\n",
    "Let $S(t_i) = S_i, \\quad a(t_i, S_i) = a_i, \\quad b(t_i, S_i) = b_i$ and\n",
    "$ i \\in \\{1, ..., T\\}$. Then\n",
    "$$\n",
    "\\Delta S = S_i - S_{i-1} \\approx a(t_i, S_i) \\Delta t + b(t_i, S_i) \\Delta W \n",
    "$$ (my_label)\n",
    "\n",
    "$$\n",
    "\\Rightarrow\n",
    "\\mathbb{P}(\\Delta S < x) \\approx \\mathbb{P}(\\Delta W < \\frac{x - a_i \\Delta t}{b_i}),\n",
    "\\quad \\text{where } \\Delta W \\sim \\mathcal{N}(0,\\Delta t)\\,\n",
    "$$\n",
    "\n",
    "Here $\\Delta t$ denotes time discretization step."
   ]
  },
  {
   "cell_type": "code",
   "execution_count": null,
   "id": "1",
   "metadata": {},
   "outputs": [],
   "source": [
    "from finito.simulator import generateGeneralWiener\n",
    "import numpy as np\n",
    "import matplotlib.pyplot as plt\n",
    "import seaborn as sns\n",
    "\n",
    "# Generate process\n",
    "dummyS = generateGeneralWiener(\n",
    "    a=3, b=0.4, dt=np.timedelta64(1, \"ms\"), T=np.timedelta64(10, \"s\")\n",
    ")\n",
    "print(\"Shape of data:\", dummyS.shape)"
   ]
  },
  {
   "cell_type": "markdown",
   "id": "2",
   "metadata": {},
   "source": [
    "#### 1.1. EM-algorithm"
   ]
  },
  {
   "cell_type": "code",
   "execution_count": null,
   "id": "3",
   "metadata": {},
   "outputs": [],
   "source": [
    "# Take differences\n",
    "deltaS = np.diff(dummyS)\n",
    "\n",
    "# Take a look on result\n",
    "f, ax = plt.subplots(3, 1, figsize=(10, 10))\n",
    "ax[0].plot(dummyS)\n",
    "ax[0].set_title(\"Original process\")\n",
    "ax[1].plot(deltaS)\n",
    "ax[1].set_title(\"Differences\")\n",
    "sns.histplot(deltaS, kde=True, ax=ax[2])\n",
    "ax[2].set_title(\"Distribution of differences\")\n",
    "\n",
    "plt.show()"
   ]
  },
  {
   "cell_type": "code",
   "execution_count": null,
   "id": "4",
   "metadata": {},
   "outputs": [],
   "source": [
    "from sklearn.mixture import GaussianMixture\n",
    "\n",
    "gmm = GaussianMixture(\n",
    "    n_components=1,\n",
    ")\n",
    "\n",
    "gmm.fit(deltaS.reshape(-1, 1))\n",
    "\n",
    "print(\n",
    "    \"Model parameters after fitting:\",\n",
    "    f\"Means: {gmm.means_[0]}\",\n",
    "    f\"Covariances: {gmm.covariances_.flatten()}\",\n",
    "    sep=\"\\n\",\n",
    ")\n",
    "__time_delta = np.timedelta64(1, \"s\") / np.timedelta64(1, \"ms\")\n",
    "print(\n",
    "    \"As we can see it differs from initial a and b parameters on time delta:\",\n",
    "    __time_delta,\n",
    ")\n",
    "print(\n",
    "    f\"Means: {gmm.means_ * __time_delta}\",\n",
    "    f\"Covariances: {gmm.covariances_ * __time_delta}\",\n",
    "    f\"Standard deviation: {np.sqrt(gmm.covariances_ * __time_delta)}\",\n",
    "    sep=\"\\n\",\n",
    ")"
   ]
  },
  {
   "cell_type": "markdown",
   "id": "5",
   "metadata": {},
   "source": [
    "#### 1.2. Minimization problem on distribution\n",
    "\n",
    "Discrete approximation $F_{\\Delta S, T}(x)$ of the continuous distribution \n",
    "$F_{dS}(x)$ can be estimated in two ways: theoretical and empirical. \n",
    "\n",
    "On one hand:\n",
    "$$\n",
    "F^{(theor)}_{\\Delta S, T}(x) = \\mathbb{P}(\\Delta S < x) \\approx \n",
    "\\sum_{k=1}^{K}{p_k \\cdot \\Phi \\left( \\frac{x - a_k}{b_k} \\right)} \n",
    "\\xrightarrow{K \\rightarrow \\infty} F_{dS}\n",
    "$$\n",
    "\n",
    "But on the other we can estimate empirical distribution of $\\Delta S$ as:\n",
    "\n",
    "$$\n",
    "F^{(emp)}_{\\Delta S, T}(x) = \n",
    "\\frac{1}{T} \\cdot \\sum_{j=1}^{T} \\mathbb{I} \\left(\\Delta S < x\\right)\n",
    "\\xrightarrow{\\Delta t \\rightarrow 0} F_{dS}\n",
    "$$\n",
    "\n",
    "For evaluation of parameters $V_k = \\{a_k, b_k, p_k\\}$ we can set an \n",
    "minimization problem on distance (in some metric $\\rho(f,g)$) between\n",
    "theoretical and empirical distributions:\n",
    "\n",
    "$$\n",
    "\\min_{\\{V_k\\}_{k=1}^{K}} \\rho \\left(F^{(emp)}_{\\Delta S, T}, F^{(theor)}_{\\Delta S, T}\\right)\n",
    "$$"
   ]
  }
 ],
 "metadata": {
  "kernelspec": {
   "display_name": "finito-3.12",
   "language": "python",
   "name": "python3"
  },
  "language_info": {
   "codemirror_mode": {
    "name": "ipython",
    "version": 3
   },
   "file_extension": ".py",
   "mimetype": "text/x-python",
   "name": "python",
   "nbconvert_exporter": "python",
   "pygments_lexer": "ipython3",
   "version": "3.12.7"
  }
 },
 "nbformat": 4,
 "nbformat_minor": 5
}
