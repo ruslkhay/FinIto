{
 "cells": [
  {
   "cell_type": "code",
   "execution_count": null,
   "id": "0",
   "metadata": {},
   "outputs": [],
   "source": [
    "import numpy as np\n",
    "import plotly.express as px\n",
    "import matplotlib.pyplot as plt\n",
    "import scipy.stats as stats\n",
    "from tqdm import tqdm\n",
    "\n",
    "import finito.simulator as sim"
   ]
  },
  {
   "cell_type": "code",
   "execution_count": null,
   "id": "1",
   "metadata": {},
   "outputs": [],
   "source": [
    "SEED = 42\n",
    "START = np.datetime64(\"2022-01-01T00:00:00\")\n",
    "DURATION = np.timedelta64(15, \"s\")\n",
    "DELTA = np.timedelta64(10, \"ms\")"
   ]
  },
  {
   "cell_type": "markdown",
   "id": "2",
   "metadata": {},
   "source": [
    "# Type of processes\n",
    "\n",
    "## Wiener process\n",
    "\n",
    "Z is a Wiener process if\n",
    "1. $\\Delta Z = \\varepsilon \\cdot\\sqrt{\\Delta{t}}$, where $\\varepsilon \\sim \\Phi{(0,1)}$\n",
    "2. $\\Delta Z$ are independent for small ${\\Delta{t}}$ intervals\n",
    "\n",
    "\n",
    "## Generalized Wiener process\n",
    "X is a generalized Wiener process if\n",
    "$dX = a \\,dt + b \\,dZ$, where $Z$ is a Wiener process"
   ]
  },
  {
   "cell_type": "code",
   "execution_count": null,
   "id": "3",
   "metadata": {},
   "outputs": [],
   "source": [
    "def generateWiener(\n",
    "    dt: np.timedelta64 = DELTA,\n",
    "    z0=0,\n",
    "    T: np.timedelta64 = DURATION,\n",
    "    seed=SEED,\n",
    "    disable_tqdm=False,\n",
    "):\n",
    "    \"\"\"Generate Wiener process\n",
    "\n",
    "    Each time creates new process. Doesn't change resolution of time.\n",
    "    \"\"\"\n",
    "\n",
    "    np.random.seed(seed)\n",
    "    Z = np.full(T // dt, z0, dtype=float)\n",
    "    delta_t = dt / np.timedelta64(1, \"s\")\n",
    "    for i in tqdm(\n",
    "        range(1, Z.shape[0]), \"Generating Wiener process\", disable=disable_tqdm\n",
    "    ):\n",
    "        randomVal = stats.norm.rvs(0, np.sqrt(delta_t))\n",
    "        Z[i] = Z[i - 1] + randomVal * np.sqrt(delta_t)\n",
    "    return Z"
   ]
  },
  {
   "cell_type": "code",
   "execution_count": null,
   "id": "4",
   "metadata": {},
   "outputs": [],
   "source": [
    "px.line(sim.generateGeneralWiener(3, 0.3, dt=DELTA, T=DURATION)).show()"
   ]
  },
  {
   "cell_type": "code",
   "execution_count": null,
   "id": "5",
   "metadata": {},
   "outputs": [],
   "source": [
    "for num_ticks in [100 * DELTA, 10 * DELTA, DELTA]:\n",
    "    Z = generateWiener(num_ticks)\n",
    "    px.line(Z).show()"
   ]
  },
  {
   "cell_type": "markdown",
   "id": "6",
   "metadata": {},
   "source": [
    "# Gaussian mixture"
   ]
  },
  {
   "cell_type": "code",
   "execution_count": null,
   "id": "7",
   "metadata": {},
   "outputs": [],
   "source": [
    "from finito.gauss import GaussianMixture\n",
    "from scipy.stats import norm"
   ]
  },
  {
   "cell_type": "code",
   "execution_count": null,
   "id": "8",
   "metadata": {},
   "outputs": [],
   "source": [
    "a = [0, 0, 0]\n",
    "b = [1, 5, 2]\n",
    "\n",
    "\n",
    "gm1 = GaussianMixture(a=a, b=b)\n",
    "x_grid = np.linspace(-7, 7, 100)\n",
    "cdf_values = gm1.cdf(x_grid)\n",
    "print(\n",
    "    \"Plots are different time to time due to random weights generation.\",\n",
    "    f\"\\nCurrent weights: {gm1._weights.flatten()}\",\n",
    ")\n",
    "\n",
    "pdf_values = gm1.pdf(x_grid)\n",
    "\n",
    "plt.figure(figsize=(8, 5))\n",
    "plt.plot(x_grid, pdf_values, label=\"GMM PDF\", color=\"black\")\n",
    "\n",
    "# Approximate samples of gaussian mixture with just one normal law\n",
    "samples = gm1.sample(500)\n",
    "params = norm.fit(samples)\n",
    "plt.plot(x_grid, norm(*params).pdf(x_grid), label=\"norm PDF\", color=\"blue\")\n",
    "plt.title(\"PDF of Gaussian Mixture Model\")\n",
    "plt.xlabel(\"x\")\n",
    "plt.ylabel(\"PDF\")\n",
    "plt.legend()\n",
    "plt.grid()\n",
    "plt.show()"
   ]
  },
  {
   "cell_type": "markdown",
   "id": "9",
   "metadata": {},
   "source": [
    "As we can see even that gaussians have the same mean, that leads \n",
    "to pdf and cdf plots form similar to basic normal distribution, the differences \n",
    "in standard deviations pays crucial role.\n",
    "\n",
    "Check cdf's of real data (BTC for instance) and you'll see similar pictures\n"
   ]
  }
 ],
 "metadata": {
  "kernelspec": {
   "display_name": "finito-3.12",
   "language": "python",
   "name": "python3"
  },
  "language_info": {
   "codemirror_mode": {
    "name": "ipython",
    "version": 3
   },
   "file_extension": ".py",
   "mimetype": "text/x-python",
   "name": "python",
   "nbconvert_exporter": "python",
   "pygments_lexer": "ipython3",
   "version": "3.12.7"
  }
 },
 "nbformat": 4,
 "nbformat_minor": 5
}
