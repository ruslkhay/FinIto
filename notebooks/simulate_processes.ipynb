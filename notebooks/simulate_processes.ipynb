{
 "cells": [
  {
   "cell_type": "code",
   "execution_count": null,
   "id": "0",
   "metadata": {},
   "outputs": [],
   "source": [
    "import numpy as np\n",
    "import plotly.express as px\n",
    "import scipy.stats as stats\n",
    "from tqdm import tqdm"
   ]
  },
  {
   "cell_type": "code",
   "execution_count": null,
   "id": "1",
   "metadata": {},
   "outputs": [],
   "source": [
    "SEED = 42\n",
    "START = np.datetime64(\"2022-01-01T00:00:00\")\n",
    "DURATION = np.timedelta64(15, \"s\")\n",
    "DELTA = np.timedelta64(10, \"ms\")"
   ]
  },
  {
   "cell_type": "markdown",
   "id": "2",
   "metadata": {},
   "source": [
    "# Type of processes\n",
    "\n",
    "## Wiener process\n",
    "\n",
    "Z is a Wiener process if\n",
    "1. $\\Delta Z = \\varepsilon \\cdot\\sqrt{\\Delta{t}}$, where $\\varepsilon \\sim \\Phi{(0,1)}$\n",
    "2. $\\Delta Z$ are independent for small ${\\Delta{t}}$ intervals\n",
    "\n",
    "\n",
    "## Generalized Wiener process\n",
    "X is a generalized Wiener process if\n",
    "$dX = a \\,dt + b \\,dZ$, where $Z$ is a Wiener process"
   ]
  },
  {
   "cell_type": "code",
   "execution_count": null,
   "id": "3",
   "metadata": {},
   "outputs": [],
   "source": [
    "def getUnixTimeStamp(t: np.timedelta64):\n",
    "    \"\"\"Utility function to identify time units as integer indexes.\"\"\"\n",
    "    unit = str(t.dtype).split(\"[\")[1][:-1]\n",
    "    return t.astype(f\"datetime64[{unit}]\").astype(\"int\")\n",
    "\n",
    "\n",
    "def getIdentifier(t: np.timedelta64):\n",
    "    \"\"\"Map to smaller range.\"\"\"\n",
    "    nominator = np.timedelta64(1, \"s\") // np.timedelta64(1, \"ns\")\n",
    "    return getUnixTimeStamp(t) % nominator"
   ]
  },
  {
   "cell_type": "code",
   "execution_count": null,
   "id": "4",
   "metadata": {},
   "outputs": [],
   "source": [
    "def generateWiener(\n",
    "    dt: np.timedelta64 = DELTA,\n",
    "    z0=0,\n",
    "    T: np.timedelta64 = DURATION,\n",
    "    seed=SEED,\n",
    "    disable_tqdm=False,\n",
    "):\n",
    "    \"\"\"Generate Wiener process\n",
    "\n",
    "    Each time creates new process. Doesn't change resolution of time.\n",
    "    \"\"\"\n",
    "\n",
    "    np.random.seed(seed)\n",
    "    Z = np.full(T // dt, z0, dtype=float)\n",
    "    delta_t = dt / np.timedelta64(1, \"s\")\n",
    "    for i in tqdm(\n",
    "        range(1, Z.shape[0]), \"Generating Wiener process\", disable=disable_tqdm\n",
    "    ):\n",
    "        randomVal = stats.norm.rvs(0, 1)\n",
    "        Z[i] = Z[i - 1] + randomVal * np.sqrt(delta_t)\n",
    "    return Z\n",
    "\n",
    "\n",
    "def generateGeneralWiener(\n",
    "    a,\n",
    "    b,\n",
    "    dt: np.timedelta64 = DELTA,\n",
    "    x0=0,\n",
    "    T: np.timedelta64 = DURATION,\n",
    "    seed=SEED,\n",
    "    disable_tqdm=False,\n",
    "):\n",
    "    \"\"\"Generate Wiener process\n",
    "\n",
    "    Each time creates new process. Doesn't change resolution of time.\n",
    "    \"\"\"\n",
    "\n",
    "    np.random.seed(seed)\n",
    "    X = np.full(T // dt, x0, dtype=float)\n",
    "    delta_t = dt / np.timedelta64(1, \"s\")\n",
    "    print(X.shape)\n",
    "    for i in tqdm(\n",
    "        range(1, X.shape[0]), \"Generating Wiener process\", disable=disable_tqdm\n",
    "    ):\n",
    "        randomVal = stats.norm.rvs(0, 1)\n",
    "        X[i] = a * delta_t + b * randomVal * np.sqrt(delta_t) + X[i - 1]\n",
    "    return X"
   ]
  },
  {
   "cell_type": "code",
   "execution_count": null,
   "id": "5",
   "metadata": {},
   "outputs": [],
   "source": [
    "px.line(generateGeneralWiener(3, 0.3))"
   ]
  },
  {
   "cell_type": "code",
   "execution_count": null,
   "id": "6",
   "metadata": {},
   "outputs": [],
   "source": [
    "for num_ticks in [100 * DELTA, 10 * DELTA, DELTA]:\n",
    "    Z = generateWiener(num_ticks)\n",
    "    px.line(Z).show()"
   ]
  }
 ],
 "metadata": {
  "kernelspec": {
   "display_name": "finito-3.12",
   "language": "python",
   "name": "python3"
  },
  "language_info": {
   "codemirror_mode": {
    "name": "ipython",
    "version": 3
   },
   "file_extension": ".py",
   "mimetype": "text/x-python",
   "name": "python",
   "nbconvert_exporter": "python",
   "pygments_lexer": "ipython3",
   "version": "3.12.7"
  }
 },
 "nbformat": 4,
 "nbformat_minor": 5
}
