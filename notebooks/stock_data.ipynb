{
 "cells": [
  {
   "cell_type": "code",
   "execution_count": null,
   "id": "0",
   "metadata": {},
   "outputs": [],
   "source": [
    "import yfinance as yf\n",
    "import numpy as np\n",
    "from pathlib import Path\n",
    "import pandas as pd\n",
    "import plotly.express as px"
   ]
  },
  {
   "cell_type": "code",
   "execution_count": null,
   "id": "1",
   "metadata": {},
   "outputs": [],
   "source": [
    "# S&P 500 index data\n",
    "# raw_data = yf.download (tickers = \"^GSPC\", start = \"1994-01-07\", end = \"2019-09-01\", interval = \"1d\")"
   ]
  },
  {
   "cell_type": "code",
   "execution_count": null,
   "id": "2",
   "metadata": {},
   "outputs": [],
   "source": [
    "# start_date = \"2000-01-01\"\n",
    "start_date = \"2025-10-01\"\n",
    "end_date = \"2025-10-07\"\n",
    "\n",
    "# Coca-Cola data. Load up or either download from yahoo\n",
    "ko_path = Path(\"../data/KO.csv\")\n",
    "if ko_path.exists():\n",
    "    stock = pd.read_csv(ko_path)\n",
    "else:\n",
    "    stock = yf.download(tickers=\"KO\", start=start_date, end=end_date, interval=\"1m\")\n",
    "    stock.to_csv(ko_path)\n",
    "display(stock)\n",
    "stock = stock.drop(0, axis=0)\n",
    "stock = stock.astype(float)"
   ]
  },
  {
   "cell_type": "code",
   "execution_count": null,
   "id": "3",
   "metadata": {},
   "outputs": [],
   "source": [
    "df = pd.DataFrame({\"price\": stock[\"Close\"]})\n",
    "df[\"log_ret\"] = np.log(stock[\"Close\"] / stock[\"Close\"].shift())\n",
    "display(df)\n",
    "df.dropna(inplace=True)"
   ]
  },
  {
   "cell_type": "code",
   "execution_count": null,
   "id": "4",
   "metadata": {},
   "outputs": [],
   "source": [
    "from finito.utility import EmpiricalCDF\n",
    "\n",
    "x = np.sort(df[\"log_ret\"].values)\n",
    "y = EmpiricalCDF(x)\n",
    "px.line(x=x, y=y)"
   ]
  }
 ],
 "metadata": {
  "kernelspec": {
   "display_name": "finito-3.12",
   "language": "python",
   "name": "python3"
  },
  "language_info": {
   "codemirror_mode": {
    "name": "ipython",
    "version": 3
   },
   "file_extension": ".py",
   "mimetype": "text/x-python",
   "name": "python",
   "nbconvert_exporter": "python",
   "pygments_lexer": "ipython3",
   "version": "3.12.7"
  }
 },
 "nbformat": 4,
 "nbformat_minor": 5
}
