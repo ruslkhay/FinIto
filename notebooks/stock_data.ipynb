{
 "cells": [
  {
   "cell_type": "code",
   "execution_count": null,
   "id": "0",
   "metadata": {},
   "outputs": [],
   "source": [
    "import yfinance as yf\n",
    "import numpy as np\n",
    "import matplotlib.pyplot as plt\n",
    "import seaborn as sns"
   ]
  },
  {
   "cell_type": "code",
   "execution_count": null,
   "id": "1",
   "metadata": {},
   "outputs": [],
   "source": [
    "# S&P 500 index data\n",
    "# raw_data = yf.download (tickers = \"^GSPC\", start = \"1994-01-07\", end = \"2019-09-01\", interval = \"1d\")"
   ]
  },
  {
   "cell_type": "code",
   "execution_count": null,
   "id": "2",
   "metadata": {},
   "outputs": [],
   "source": [
    "start_date = \"2000-01-01\"\n",
    "end_date = \"2020-01-01\"\n",
    "\n",
    "# Coca-Cola data\n",
    "# stock = yf.download(tickers=\"KO\", start=start_date, end=end_date, interval=\"1m\")\n",
    "stock = yf.Ticker(\"KO\")"
   ]
  },
  {
   "cell_type": "code",
   "execution_count": null,
   "id": "3",
   "metadata": {},
   "outputs": [],
   "source": [
    "import plotly.express as px\n",
    "\n",
    "dat = stock.history(start=start_date, end=end_date)\n",
    "display(dat)\n",
    "px.line(dat, y=[\"High\", \"Low\"])"
   ]
  },
  {
   "cell_type": "code",
   "execution_count": null,
   "id": "4",
   "metadata": {},
   "outputs": [],
   "source": [
    "closePrice = dat.loc[:, \"Close\"].values\n",
    "dX = np.diff(closePrice)\n",
    "# Take a look on result\n",
    "f, ax = plt.subplots(3, 1, figsize=(10, 10))\n",
    "ax[0].plot(closePrice)\n",
    "ax[0].set_title(\"Cola close price\")\n",
    "ax[1].plot(dX)\n",
    "ax[1].set_title(\"Differences\")\n",
    "sns.histplot(dX, kde=True, ax=ax[2])\n",
    "ax[2].set_title(\"Distribution of differences\")\n",
    "\n",
    "plt.show()"
   ]
  }
 ],
 "metadata": {
  "kernelspec": {
   "display_name": ".venv",
   "language": "python",
   "name": "python3"
  },
  "language_info": {
   "codemirror_mode": {
    "name": "ipython",
    "version": 3
   },
   "file_extension": ".py",
   "mimetype": "text/x-python",
   "name": "python",
   "nbconvert_exporter": "python",
   "pygments_lexer": "ipython3",
   "version": "3.12.7"
  }
 },
 "nbformat": 4,
 "nbformat_minor": 5
}
